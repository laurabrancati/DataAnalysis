{
 "cells": [
  {
   "cell_type": "code",
   "execution_count": 230,
   "metadata": {},
   "outputs": [],
   "source": [
    "import numpy as np\n",
    "import matplotlib.pyplot as plt\n",
    "from sklearn.cluster import AgglomerativeClustering as AC\n"
   ]
  },
  {
   "cell_type": "code",
   "execution_count": 231,
   "metadata": {},
   "outputs": [],
   "source": [
    "def GetColors(N, map_name='rainbow'):\n",
    "    '''Function returns a list of N colors from a matplotlib colormap\n",
    "            Input: N = number of colors, and map_name = name of a matplotlib colormap\n",
    "    \n",
    "            For a list of available colormaps: \n",
    "                https://matplotlib.org/3.1.1/gallery/color/colormap_reference.html\n",
    "    '''\n",
    "    \n",
    "    import matplotlib\n",
    "    import numpy as np\n",
    "    cmap = matplotlib.cm.get_cmap(map_name)\n",
    "    n = np.linspace(0,N,N)/N\n",
    "    return cmap(n)\n",
    "\n",
    "def PlotGroups(points, groups, colors, ec='black', ax='None'):\n",
    "    '''Function makes a scatter plot, given:\n",
    "            Input:  points (array)\n",
    "                    groups (an integer label for each point)\n",
    "                    colors (one rgb tuple for each group)\n",
    "                    ec (edgecolor for markers, default is black)\n",
    "                    ax (optional handle to an existing axes object to add the new plot on top of)\n",
    "            Output: handles to the figure (fig) and axes (ax) objects\n",
    "    '''\n",
    "    import matplotlib.pyplot as plt\n",
    "    # Create a new figure if none was passed\n",
    "    if ax == 'None':\n",
    "        fig,ax = plt.subplots()\n",
    "    else:\n",
    "        fig = plt.gcf()\n",
    "        \n",
    "    for i in np.unique(groups):\n",
    "        idx = (groups==i)\n",
    "        ax.scatter(points[idx,0], points[idx,1],\n",
    "                    color=colors[i],edgecolor=ec,\n",
    "                    label = 'Group ' + str(i), alpha=0.5)\n",
    "    ax.set_xlabel('$x_1$')\n",
    "    ax.set_ylabel('$x_2$')\n",
    "    ax.legend(bbox_to_anchor=[1,0.5],loc='center left')\n",
    "    return fig,ax\n",
    "\n",
    "def CompareClasses(actual, predicted, names=None):\n",
    "    '''Function returns a confusion matrix, and overall accuracy given:\n",
    "            Input:  actual - a list of actual classifications\n",
    "                    predicted - a list of predicted classifications\n",
    "                    names (optional) - a list of class names\n",
    "    '''\n",
    "    \n",
    "    import pandas as pd\n",
    "    accuracy = sum(actual==predicted)/actual.shape[0]\n",
    "    classes = pd.DataFrame(columns=['Actual','Predicted'])\n",
    "    classes['Actual'] = actual\n",
    "    classes['Predicted'] = predicted\n",
    "    conf_mat = pd.crosstab(classes['Predicted'],classes['Actual'])\n",
    "    # Relabel the rows/columns if names was provided\n",
    "    if type(names) != type(None):\n",
    "        conf_mat.index=names\n",
    "        conf_mat.index.name='Predicted'\n",
    "        conf_mat.columns=names\n",
    "        conf_mat.columns.name = 'Actual'\n",
    "    print('Accuracy = ' + format(accuracy, '.2f'))\n",
    "    return conf_mat, accuracy\n",
    "\n",
    "def plot_dendrogram(model, **kwargs):\n",
    "    from scipy.cluster.hierarchy import dendrogram\n",
    "    # Create linkage matrix and then plot the dendrogram\n",
    "    # create the counts of samples under each node\n",
    "    counts = np.zeros(model.children_.shape[0])\n",
    "    n_samples = len(model.labels_)\n",
    "    for i, merge in enumerate(model.children_):\n",
    "        current_count = 0\n",
    "        for child_idx in merge:\n",
    "            if child_idx < n_samples:\n",
    "                current_count += 1  # leaf node\n",
    "            else:\n",
    "                current_count += counts[child_idx - n_samples]\n",
    "        counts[i] = current_count\n",
    "\n",
    "    linkage_matrix = np.column_stack([model.children_, model.distances_,\n",
    "                                      counts]).astype(float)\n",
    "    # Plot the corresponding dendrogram\n",
    "    dendrogram(linkage_matrix,**kwargs)\n",
    "    # Add axis labels\n",
    "    plt.xlabel('Data Point')\n",
    "    plt.ylabel('Distance')"
   ]
  },
  {
   "cell_type": "code",
   "execution_count": 232,
   "metadata": {},
   "outputs": [],
   "source": [
    "from sklearn.datasets import load_iris"
   ]
  },
  {
   "cell_type": "markdown",
   "metadata": {},
   "source": [
    "load iris data set"
   ]
  },
  {
   "cell_type": "code",
   "execution_count": 233,
   "metadata": {},
   "outputs": [],
   "source": [
    "iris_data = load_iris()\n",
    "X = iris_data.data\n",
    "X_names = iris_data.feature_names\n",
    "y = iris_data.target\n",
    "y_names = iris_data.target_names"
   ]
  },
  {
   "cell_type": "code",
   "execution_count": 234,
   "metadata": {},
   "outputs": [
    {
     "data": {
      "text/plain": [
       "(150, 4)"
      ]
     },
     "execution_count": 234,
     "metadata": {},
     "output_type": "execute_result"
    }
   ],
   "source": [
    "X.shape"
   ]
  },
  {
   "cell_type": "markdown",
   "metadata": {},
   "source": [
    "# Agglomerative Hierarchical Clustering"
   ]
  },
  {
   "cell_type": "code",
   "execution_count": 235,
   "metadata": {},
   "outputs": [
    {
     "data": {
      "image/png": "[encoded data removed]",
      "text/plain": [
       "<Figure size 432x288 with 1 Axes>"
      ]
     },
     "metadata": {
      "needs_background": "light"
     },
     "output_type": "display_data"
    }
   ],
   "source": [
    "n= 3\n",
    "\n",
    "ac = AC(n_clusters=None, distance_threshold=0)\n",
    "ac.fit(X)\n",
    "plot_dendrogram(ac)\n",
    "plt.show()\n",
    "#clearly shows it should be 3 clustters"
   ]
  },
  {
   "cell_type": "code",
   "execution_count": 236,
   "metadata": {},
   "outputs": [
    {
     "data": {
      "image/png": "[encoded data removed]",
      "text/plain": [
       "<Figure size 432x288 with 1 Axes>"
      ]
     },
     "metadata": {
      "needs_background": "light"
     },
     "output_type": "display_data"
    }
   ],
   "source": [
    "ac = AC(n_clusters = n)\n",
    "y_pred = ac.fit_predict(X)\n",
    "\n",
    "colors = GetColors(n)\n",
    "PlotGroups(X, y_pred, colors)\n",
    "plt.axis('equal')\n",
    "plt.show()"
   ]
  },
  {
   "cell_type": "code",
   "execution_count": 237,
   "metadata": {},
   "outputs": [
    {
     "name": "stdout",
     "output_type": "stream",
     "text": [
      "Accuracy = 0.89\n"
     ]
    },
    {
     "data": {
      "text/plain": [
       "(Actual      0   1   2\n",
       " Predicted            \n",
       " 0          50   0   0\n",
       " 1           0  49  15\n",
       " 2           0   1  35, 0.8933333333333333)"
      ]
     },
     "execution_count": 237,
     "metadata": {},
     "output_type": "execute_result"
    }
   ],
   "source": [
    "#without anything and non standardized\n",
    "y_pred_adj = y_pred.copy()\n",
    "\n",
    "idx0 = y_pred==0\n",
    "idx1 = y_pred==1\n",
    "\n",
    "y_pred_adj[idx0] = 1\n",
    "y_pred_adj[idx1] = 0\n",
    "\n",
    "CompareClasses(y, y_pred_adj)"
   ]
  },
  {
   "cell_type": "code",
   "execution_count": 238,
   "metadata": {},
   "outputs": [
    {
     "data": {
      "image/png": "[encoded data removed]",
      "text/plain": [
       "<Figure size 432x288 with 1 Axes>"
      ]
     },
     "metadata": {
      "needs_background": "light"
     },
     "output_type": "display_data"
    },
    {
     "name": "stdout",
     "output_type": "stream",
     "text": [
      "Accuracy = 0.83\n"
     ]
    },
    {
     "data": {
      "text/plain": [
       "(Actual      0   1   2\n",
       " Predicted            \n",
       " 0          49   0   0\n",
       " 1           1  27   2\n",
       " 2           0  23  48, 0.8266666666666667)"
      ]
     },
     "execution_count": 238,
     "metadata": {},
     "output_type": "execute_result"
    }
   ],
   "source": [
    "#normal with standardized \n",
    "from sklearn.preprocessing import StandardScaler as SS\n",
    "ss = SS()\n",
    "Xs = ss.fit_transform(X)\n",
    "ac = AC(n_clusters = n)\n",
    "y_pred = ac.fit_predict(Xs)\n",
    "\n",
    "colors = GetColors(n)\n",
    "PlotGroups(X, y_pred, colors)\n",
    "plt.axis('equal')\n",
    "plt.show()\n",
    "\n",
    "y_pred_adj = y_pred.copy()\n",
    "\n",
    "idx0 = y_pred==0\n",
    "idx1 = y_pred==1\n",
    "idx2 = y_pred==2\n",
    "\n",
    "y_pred_adj[idx0] = 2\n",
    "y_pred_adj[idx1] = 0\n",
    "y_pred_adj[idx2] = 1\n",
    "\n",
    "CompareClasses(y, y_pred_adj)"
   ]
  },
  {
   "cell_type": "code",
   "execution_count": 239,
   "metadata": {},
   "outputs": [],
   "source": [
    "from sklearn.decomposition import PCA\n",
    "pca = PCA()\n",
    "Xp = pca.fit_transform(X)\n",
    "\n",
    "ac = AC(n_clusters = n)\n",
    "y_pred = ac.fit_predict(Xp)"
   ]
  },
  {
   "cell_type": "code",
   "execution_count": 240,
   "metadata": {},
   "outputs": [
    {
     "name": "stdout",
     "output_type": "stream",
     "text": [
      "Accuracy = 0.89\n"
     ]
    },
    {
     "data": {
      "text/plain": [
       "(Actual      0   1   2\n",
       " Predicted            \n",
       " 0          50   0   0\n",
       " 1           0  49  15\n",
       " 2           0   1  35, 0.8933333333333333)"
      ]
     },
     "execution_count": 240,
     "metadata": {},
     "output_type": "execute_result"
    }
   ],
   "source": [
    "y_pred_adj = y_pred.copy()\n",
    "\n",
    "idx0 = y_pred==0\n",
    "idx1 = y_pred==1\n",
    "\n",
    "y_pred_adj[idx0] = 1\n",
    "y_pred_adj[idx1] = 0\n",
    "\n",
    "CompareClasses(y, y_pred_adj)"
   ]
  },
  {
   "cell_type": "code",
   "execution_count": 241,
   "metadata": {},
   "outputs": [
    {
     "name": "stdout",
     "output_type": "stream",
     "text": [
      "Accuracy = 0.83\n"
     ]
    },
    {
     "data": {
      "text/plain": [
       "(Actual      0   1   2\n",
       " Predicted            \n",
       " 0          49   0   0\n",
       " 1           1  27   2\n",
       " 2           0  23  48, 0.8266666666666667)"
      ]
     },
     "execution_count": 241,
     "metadata": {},
     "output_type": "execute_result"
    }
   ],
   "source": [
    "from sklearn.preprocessing import StandardScaler as SS\n",
    "ss = SS()\n",
    "Xs = ss.fit_transform(X)\n",
    "pca = PCA()\n",
    "Xp = pca.fit_transform(Xs)\n",
    "\n",
    "ac = AC(n_clusters = n)\n",
    "y_pred = ac.fit_predict(Xp)\n",
    "y_pred_adj = y_pred.copy()\n",
    "\n",
    "idx0 = y_pred==0\n",
    "idx1 = y_pred==1\n",
    "idx2 = y_pred==2\n",
    "\n",
    "y_pred_adj[idx0] = 2\n",
    "y_pred_adj[idx1] = 0\n",
    "y_pred_adj[idx2] = 1\n",
    "\n",
    "CompareClasses(y, y_pred_adj)"
   ]
  },
  {
   "cell_type": "code",
   "execution_count": 242,
   "metadata": {},
   "outputs": [],
   "source": [
    "from sklearn.manifold import TSNE\n",
    "tsne = TSNE(random_state=146)\n",
    "Xt = tsne.fit_transform(X)\n",
    "\n",
    "ac = AC(n_clusters = n)\n",
    "y_pred = ac.fit_predict(Xt)"
   ]
  },
  {
   "cell_type": "code",
   "execution_count": 243,
   "metadata": {},
   "outputs": [
    {
     "name": "stdout",
     "output_type": "stream",
     "text": [
      "Accuracy = 0.91\n"
     ]
    },
    {
     "data": {
      "text/plain": [
       "(Actual      0   1   2\n",
       " Predicted            \n",
       " 0          50   0   0\n",
       " 1           0  50  14\n",
       " 2           0   0  36, 0.9066666666666666)"
      ]
     },
     "execution_count": 243,
     "metadata": {},
     "output_type": "execute_result"
    }
   ],
   "source": [
    "y_pred_adj = y_pred.copy()\n",
    "\n",
    "idx0 = y_pred==0\n",
    "idx1 = y_pred==1\n",
    "\n",
    "y_pred_adj[idx0] = 1\n",
    "y_pred_adj[idx1] = 0\n",
    "\n",
    "CompareClasses(y, y_pred_adj)"
   ]
  },
  {
   "cell_type": "code",
   "execution_count": 244,
   "metadata": {},
   "outputs": [
    {
     "name": "stdout",
     "output_type": "stream",
     "text": [
      "Accuracy = 0.89\n"
     ]
    },
    {
     "data": {
      "text/plain": [
       "(Actual      0   1   2\n",
       " Predicted            \n",
       " 0          50   0   0\n",
       " 1           0  49  15\n",
       " 2           0   1  35, 0.8933333333333333)"
      ]
     },
     "execution_count": 244,
     "metadata": {},
     "output_type": "execute_result"
    }
   ],
   "source": [
    "from sklearn.preprocessing import StandardScaler as SS\n",
    "ss = SS()\n",
    "Xs = ss.fit_transform(X)\n",
    "tsne = TSNE(random_state=146)\n",
    "Xt = tsne.fit_transform(Xs)\n",
    "\n",
    "ac = AC(n_clusters = n)\n",
    "y_pred = ac.fit_predict(X)\n",
    "y_pred_adj = y_pred.copy()\n",
    "\n",
    "idx0 = y_pred==0\n",
    "idx1 = y_pred==1\n",
    "idx2 = y_pred==2\n",
    "\n",
    "y_pred_adj[idx0] = 1\n",
    "y_pred_adj[idx1] = 0\n",
    "y_pred_adj[idx2] = 2\n",
    "\n",
    "CompareClasses(y, y_pred_adj)"
   ]
  },
  {
   "cell_type": "markdown",
   "metadata": {},
   "source": [
    "# KMeans"
   ]
  },
  {
   "cell_type": "code",
   "execution_count": 245,
   "metadata": {},
   "outputs": [
    {
     "name": "stdout",
     "output_type": "stream",
     "text": [
      "Accuracy = 0.89\n"
     ]
    },
    {
     "data": {
      "text/plain": [
       "(Actual      0   1   2\n",
       " Predicted            \n",
       " 0          50   0   0\n",
       " 1           0  48  14\n",
       " 2           0   2  36, 0.8933333333333333)"
      ]
     },
     "execution_count": 245,
     "metadata": {},
     "output_type": "execute_result"
    }
   ],
   "source": [
    "from sklearn.cluster import KMeans\n",
    "k = 3\n",
    "km = KMeans(n_clusters=k, random_state=146)\n",
    "y_pred = km.fit_predict(X)\n",
    "CompareClasses(y, y_pred)"
   ]
  },
  {
   "cell_type": "code",
   "execution_count": 246,
   "metadata": {},
   "outputs": [
    {
     "data": {
      "image/png": "[encoded data removed]",
      "text/plain": [
       "<Figure size 432x288 with 1 Axes>"
      ]
     },
     "metadata": {
      "needs_background": "light"
     },
     "output_type": "display_data"
    },
    {
     "name": "stdout",
     "output_type": "stream",
     "text": [
      "Accuracy = 0.83\n"
     ]
    },
    {
     "data": {
      "text/plain": [
       "(Actual      0   1   2\n",
       " Predicted            \n",
       " 0          50   0   0\n",
       " 1           0  39  14\n",
       " 2           0  11  36, 0.8333333333333334)"
      ]
     },
     "execution_count": 246,
     "metadata": {},
     "output_type": "execute_result"
    }
   ],
   "source": [
    "from sklearn.preprocessing import StandardScaler as SS\n",
    "ss = SS()\n",
    "Xs = ss.fit_transform(X)\n",
    "km = KMeans(n_clusters=k, random_state=146)\n",
    "y_pred = km.fit_predict(Xs)\n",
    "\n",
    "colors = GetColors(n)\n",
    "PlotGroups(X, y_pred, colors)\n",
    "plt.axis('equal')\n",
    "plt.show()\n",
    "\n",
    "y_pred_adj = y_pred.copy()\n",
    "\n",
    "idx0 = y_pred==0\n",
    "idx1 = y_pred==1\n",
    "idx2 = y_pred==2\n",
    "\n",
    "y_pred_adj[idx0] = 1\n",
    "y_pred_adj[idx1] = 0\n",
    "y_pred_adj[idx2] = 2\n",
    "\n",
    "CompareClasses(y, y_pred_adj)"
   ]
  },
  {
   "cell_type": "code",
   "execution_count": 247,
   "metadata": {},
   "outputs": [
    {
     "data": {
      "image/png": "[encoded data removed]",
      "text/plain": [
       "<Figure size 432x288 with 1 Axes>"
      ]
     },
     "metadata": {
      "needs_background": "light"
     },
     "output_type": "display_data"
    },
    {
     "name": "stdout",
     "output_type": "stream",
     "text": [
      "Accuracy = 0.89\n"
     ]
    },
    {
     "data": {
      "text/plain": [
       "(Actual      0   1   2\n",
       " Predicted            \n",
       " 0          50   0   0\n",
       " 1           0  48  14\n",
       " 2           0   2  36, 0.8933333333333333)"
      ]
     },
     "execution_count": 247,
     "metadata": {},
     "output_type": "execute_result"
    }
   ],
   "source": [
    "from sklearn.decomposition import PCA\n",
    "pca = PCA()\n",
    "Xp = pca.fit_transform(X)\n",
    "\n",
    "km = KMeans(n_clusters=k, random_state=146)\n",
    "y_pred = km.fit_predict(Xp)\n",
    "\n",
    "colors = GetColors(n)\n",
    "PlotGroups(X, y_pred, colors)\n",
    "plt.axis('equal')\n",
    "plt.show()\n",
    "\n",
    "y_pred_adj = y_pred.copy()\n",
    "\n",
    "idx0 = y_pred==0\n",
    "idx1 = y_pred==1\n",
    "idx2 = y_pred==2\n",
    "\n",
    "y_pred_adj[idx0] = 0\n",
    "y_pred_adj[idx1] = 1\n",
    "y_pred_adj[idx2] = 2\n",
    "\n",
    "CompareClasses(y, y_pred_adj)"
   ]
  },
  {
   "cell_type": "code",
   "execution_count": 248,
   "metadata": {},
   "outputs": [
    {
     "data": {
      "image/png": "[encoded data removed]",
      "text/plain": [
       "<Figure size 432x288 with 1 Axes>"
      ]
     },
     "metadata": {
      "needs_background": "light"
     },
     "output_type": "display_data"
    },
    {
     "name": "stdout",
     "output_type": "stream",
     "text": [
      "Accuracy = 0.83\n"
     ]
    },
    {
     "data": {
      "text/plain": [
       "(Actual      0   1   2\n",
       " Predicted            \n",
       " 0          50   0   0\n",
       " 1           0  39  14\n",
       " 2           0  11  36, 0.8333333333333334)"
      ]
     },
     "execution_count": 248,
     "metadata": {},
     "output_type": "execute_result"
    }
   ],
   "source": [
    "from sklearn.preprocessing import StandardScaler as SS\n",
    "ss = SS()\n",
    "Xs = ss.fit_transform(X)\n",
    "pca = PCA()\n",
    "Xp = pca.fit_transform(Xs)\n",
    "\n",
    "km = KMeans(n_clusters=k, random_state=146)\n",
    "y_pred = km.fit_predict(Xp)\n",
    "y_pred_adj = y_pred.copy()\n",
    "\n",
    "colors = GetColors(n)\n",
    "PlotGroups(X, y_pred, colors)\n",
    "plt.axis('equal')\n",
    "plt.show()\n",
    "\n",
    "idx0 = y_pred==0\n",
    "idx1 = y_pred==1\n",
    "idx2 = y_pred==2\n",
    "\n",
    "y_pred_adj[idx0] = 1\n",
    "y_pred_adj[idx1] = 0\n",
    "y_pred_adj[idx2] = 2\n",
    "\n",
    "CompareClasses(y, y_pred_adj)"
   ]
  },
  {
   "cell_type": "code",
   "execution_count": 249,
   "metadata": {},
   "outputs": [
    {
     "data": {
      "image/png": "[encoded data removed]",
      "text/plain": [
       "<Figure size 432x288 with 1 Axes>"
      ]
     },
     "metadata": {
      "needs_background": "light"
     },
     "output_type": "display_data"
    },
    {
     "name": "stdout",
     "output_type": "stream",
     "text": [
      "Accuracy = 0.91\n"
     ]
    },
    {
     "data": {
      "text/plain": [
       "(Actual      0   1   2\n",
       " Predicted            \n",
       " 0          50   0   0\n",
       " 1           0  49  12\n",
       " 2           0   1  38, 0.9133333333333333)"
      ]
     },
     "execution_count": 249,
     "metadata": {},
     "output_type": "execute_result"
    }
   ],
   "source": [
    "tsne = TSNE(random_state=146)\n",
    "Xt = tsne.fit_transform(X)\n",
    "\n",
    "km = KMeans(n_clusters=k, random_state=146)\n",
    "y_pred = km.fit_predict(Xt)\n",
    "y_pred_adj = y_pred.copy()\n",
    "\n",
    "\n",
    "colors = GetColors(n)\n",
    "PlotGroups(X, y_pred, colors)\n",
    "plt.axis('equal')\n",
    "plt.show()\n",
    "\n",
    "idx0 = y_pred==0\n",
    "idx1 = y_pred==1\n",
    "idx2 = y_pred==2\n",
    "\n",
    "y_pred_adj[idx0] = 2\n",
    "y_pred_adj[idx1] = 0\n",
    "y_pred_adj[idx2] = 1\n",
    "\n",
    "CompareClasses(y, y_pred_adj)"
   ]
  },
  {
   "cell_type": "code",
   "execution_count": 250,
   "metadata": {},
   "outputs": [
    {
     "name": "stdout",
     "output_type": "stream",
     "text": [
      "Accuracy = 0.89\n"
     ]
    },
    {
     "data": {
      "text/plain": [
       "(Actual      0   1   2\n",
       " Predicted            \n",
       " 0          50   0   0\n",
       " 1           0  49  15\n",
       " 2           0   1  35, 0.8933333333333333)"
      ]
     },
     "execution_count": 250,
     "metadata": {},
     "output_type": "execute_result"
    }
   ],
   "source": [
    "from sklearn.preprocessing import StandardScaler as SS\n",
    "ss = SS()\n",
    "Xs = ss.fit_transform(X)\n",
    "tsne = TSNE(random_state=146)\n",
    "Xt = tsne.fit_transform(Xs)\n",
    "\n",
    "ac = AC(n_clusters = n)\n",
    "y_pred = ac.fit_predict(X)\n",
    "y_pred_adj = y_pred.copy()\n",
    "\n",
    "idx0 = y_pred==0\n",
    "idx1 = y_pred==1\n",
    "idx2 = y_pred==2\n",
    "\n",
    "y_pred_adj[idx0] = 1\n",
    "y_pred_adj[idx1] = 0\n",
    "y_pred_adj[idx2] = 2\n",
    "\n",
    "CompareClasses(y, y_pred_adj)"
   ]
  },
  {
   "cell_type": "markdown",
   "metadata": {},
   "source": [
    "# DBSCAN"
   ]
  },
  {
   "cell_type": "code",
   "execution_count": 251,
   "metadata": {},
   "outputs": [
    {
     "name": "stdout",
     "output_type": "stream",
     "text": [
      "2\n"
     ]
    }
   ],
   "source": [
    "from sklearn.cluster import DBSCAN\n",
    "e = 1\n",
    "m = 4\n",
    "\n",
    "db = DBSCAN(eps=e, min_samples=m)\n",
    "clusters = db.fit_predict(X)\n",
    "print(len(np.unique(clusters)))"
   ]
  },
  {
   "cell_type": "code",
   "execution_count": 252,
   "metadata": {},
   "outputs": [],
   "source": [
    "tsne = TSNE(random_state=146)\n",
    "Xt = tsne.fit_transform(X)"
   ]
  },
  {
   "cell_type": "code",
   "execution_count": 253,
   "metadata": {},
   "outputs": [
    {
     "data": {
      "image/png": "[encoded data removed]",
      "text/plain": [
       "<Figure size 432x288 with 1 Axes>"
      ]
     },
     "metadata": {
      "needs_background": "light"
     },
     "output_type": "display_data"
    }
   ],
   "source": [
    "e = 1.35\n",
    "m = 4\n",
    "\n",
    "db = DBSCAN(eps=e, min_samples=m)\n",
    "clusters = db.fit_predict(Xt)\n",
    "\n",
    "n = len(np.unique(clusters))\n",
    "colors = GetColors(n)\n",
    "PlotGroups(Xt, clusters, colors)\n",
    "plt.axis('equal')\n",
    "plt.xlabel('tSNE$_1$')\n",
    "plt.ylabel('tSNE$_2$')\n",
    "plt.show()"
   ]
  },
  {
   "cell_type": "code",
   "execution_count": 254,
   "metadata": {},
   "outputs": [
    {
     "data": {
      "text/plain": [
       "35"
      ]
     },
     "execution_count": 254,
     "metadata": {},
     "output_type": "execute_result"
    }
   ],
   "source": [
    "len(clusters[clusters== 2])"
   ]
  },
  {
   "cell_type": "code",
   "execution_count": 255,
   "metadata": {},
   "outputs": [
    {
     "data": {
      "image/png": "[encoded data removed]",
      "text/plain": [
       "<Figure size 432x288 with 1 Axes>"
      ]
     },
     "metadata": {
      "needs_background": "light"
     },
     "output_type": "display_data"
    }
   ],
   "source": [
    "\n",
    "n = len(np.unique(y))\n",
    "colors = GetColors(n)\n",
    "PlotGroups(Xt, y, colors)\n",
    "plt.axis('equal')\n",
    "plt.xlabel('tSNE$_1$')\n",
    "plt.ylabel('tSNE$_2$')\n",
    "plt.show()"
   ]
  },
  {
   "cell_type": "code",
   "execution_count": 256,
   "metadata": {},
   "outputs": [
    {
     "name": "stdout",
     "output_type": "stream",
     "text": [
      "[-1  0  1  2]\n",
      "[0 1 2]\n"
     ]
    }
   ],
   "source": [
    "print(np.unique(clusters))\n",
    "print(np.unique(y))"
   ]
  },
  {
   "cell_type": "code",
   "execution_count": 257,
   "metadata": {},
   "outputs": [
    {
     "data": {
      "text/plain": [
       "array([0, 0, 0, 0, 0, 0, 0, 0, 0, 0, 0, 0, 0, 0, 0, 0, 0, 0, 0, 0, 0, 0,\n",
       "       0, 0, 0, 0, 0, 0, 0, 0, 0, 0, 0, 0, 0, 0, 0, 0, 0, 0, 0, 0, 0, 0,\n",
       "       0, 0, 0, 0, 0, 0, 1, 1, 1, 1, 1, 1, 1, 1, 1, 1, 1, 1, 1, 1, 1, 1,\n",
       "       1, 1, 1, 1, 1, 1, 1, 1, 1, 1, 1, 1, 1, 1, 1, 1, 1, 1, 1, 1, 1, 1,\n",
       "       1, 1, 1, 1, 1, 1, 1, 1, 1, 1, 1, 1, 2, 2, 2, 2, 2, 2, 2, 2, 2, 2,\n",
       "       2, 2, 2, 2, 2, 2, 2, 2, 2, 2, 2, 2, 2, 2, 2, 2, 2, 2, 2, 2, 2, 2,\n",
       "       2, 2, 2, 2, 2, 2, 2, 2, 2, 2, 2, 2, 2, 2, 2, 2, 2, 2])"
      ]
     },
     "execution_count": 257,
     "metadata": {},
     "output_type": "execute_result"
    }
   ],
   "source": [
    "y"
   ]
  },
  {
   "cell_type": "code",
   "execution_count": 258,
   "metadata": {},
   "outputs": [
    {
     "data": {
      "text/plain": [
       "array([ 0,  0,  0,  0,  0,  0,  0,  0,  0,  0,  0,  0,  0,  0,  0,  0,  0,\n",
       "        0,  0,  0,  0,  0,  0,  0,  0,  0,  0,  0,  0,  0,  0,  0,  0,  0,\n",
       "        0,  0,  0,  0,  0,  0,  0,  0,  0,  0,  0,  0,  0,  0,  0,  0,  1,\n",
       "        1,  1,  1,  1,  1,  1,  1,  1,  1,  1,  1,  1,  1,  1,  1,  1,  1,\n",
       "       -1,  1,  1,  1,  1,  1,  1,  1,  1,  1,  1,  1,  1,  1,  1,  1,  1,\n",
       "        1,  1, -1,  1,  1,  1,  1,  1,  1,  1,  1,  1,  1,  1,  1,  2,  1,\n",
       "        2,  2,  2,  2,  1,  2,  2,  2,  2,  2,  2,  1,  1,  2,  2,  2,  2,\n",
       "        1,  2,  1,  2,  1,  2,  2,  1,  1,  2,  2,  2,  2,  2,  1,  1,  2,\n",
       "        2,  2,  1,  2,  2,  2,  1,  2,  2,  2,  1,  2,  2,  1])"
      ]
     },
     "execution_count": 258,
     "metadata": {},
     "output_type": "execute_result"
    }
   ],
   "source": [
    "clusters"
   ]
  },
  {
   "cell_type": "code",
   "execution_count": 259,
   "metadata": {},
   "outputs": [
    {
     "name": "stdout",
     "output_type": "stream",
     "text": [
      "[0 0 0 0 0 0 0 0 0 0 0 0 0 0 0 0 0 0 0 0 0 0 0 0 0 0 0 0 0 0 0 0 0 0 0 0 0\n",
      " 0 0 0 0 0 0 0 0 0 0 0 0 0 1 1 1 1 1 1 1 1 1 1 1 1 1 1 1 1 1 1 1 1 1 1 1 1\n",
      " 1 1 1 1 1 1 1 1 1 1 1 1 1 1 1 1 1 1 1 1 1 1 1 1 2 1 2 2 2 2 1 2 2 2 2 2 2\n",
      " 1 1 2 2 2 2 1 2 1 2 1 2 2 1 1 2 2 2 2 2 1 1 2 2 2 1 2 2 2 1 2 2 2 1 2 2 1]\n",
      "[0 0 0 0 0 0 0 0 0 0 0 0 0 0 0 0 0 0 0 0 0 0 0 0 0 0 0 0 0 0 0 0 0 0 0 0 0\n",
      " 0 0 0 0 0 0 0 0 0 0 0 0 0 1 1 1 1 1 1 1 1 1 1 1 1 1 1 1 1 1 1 1 1 1 1 1 1\n",
      " 1 1 1 1 1 1 1 1 1 1 1 1 1 1 1 1 1 1 1 1 1 1 1 1 2 2 2 2 2 2 2 2 2 2 2 2 2\n",
      " 2 2 2 2 2 2 2 2 2 2 2 2 2 2 2 2 2 2 2 2 2 2 2 2 2 2 2 2 2 2 2 2 2 2 2 2 2]\n",
      "133\n"
     ]
    }
   ],
   "source": [
    "cluster = []\n",
    "y_2 = []\n",
    "for i,idx in zip(clusters, y):\n",
    "    if i != -1:\n",
    "        cluster.append(i)\n",
    "        y_2.append(idx)\n",
    "cluster=np.array(cluster)\n",
    "y_2 = np.array(y_2)\n",
    "print(cluster)\n",
    "print(y_2)\n",
    "print(sum(y_2==cluster))"
   ]
  },
  {
   "cell_type": "code",
   "execution_count": 260,
   "metadata": {},
   "outputs": [
    {
     "name": "stdout",
     "output_type": "stream",
     "text": [
      "Accuracy = 0.90\n"
     ]
    },
    {
     "data": {
      "text/plain": [
       "(Actual      0   1   2\n",
       " Predicted            \n",
       " 0          50   0   0\n",
       " 1           0  48  15\n",
       " 2           0   0  35, 0.8986486486486487)"
      ]
     },
     "execution_count": 260,
     "metadata": {},
     "output_type": "execute_result"
    }
   ],
   "source": [
    "CompareClasses(y_2, cluster)"
   ]
  },
  {
   "cell_type": "code",
   "execution_count": 261,
   "metadata": {},
   "outputs": [
    {
     "name": "stdout",
     "output_type": "stream",
     "text": [
      "Accuracy = 0.89\n"
     ]
    },
    {
     "data": {
      "text/plain": [
       "(Actual      0   1   2\n",
       " Predicted            \n",
       " -1          0   2   0\n",
       "  0         50   0   0\n",
       "  1          0  48  15\n",
       "  2          0   0  35, 0.8866666666666667)"
      ]
     },
     "execution_count": 261,
     "metadata": {},
     "output_type": "execute_result"
    }
   ],
   "source": [
    "idx0 = clusters== 0\n",
    "idx1 = clusters==1\n",
    "idx2 = clusters==2\n",
    "\n",
    "clusters[idx0] = 0\n",
    "clusters[idx1] = 1\n",
    "clusters[idx2] = 2\n",
    "\n",
    "CompareClasses(y, clusters)"
   ]
  },
  {
   "cell_type": "code",
   "execution_count": null,
   "metadata": {},
   "outputs": [],
   "source": []
  }
 ],
 "metadata": {
  "kernelspec": {
   "display_name": "Python 3",
   "language": "python",
   "name": "python3"
  },
  "language_info": {
   "codemirror_mode": {
    "name": "ipython",
    "version": 3
   },
   "file_extension": ".py",
   "mimetype": "text/x-python",
   "name": "python",
   "nbconvert_exporter": "python",
   "pygments_lexer": "ipython3",
   "version": "3.7.4"
  }
 },
 "nbformat": 4,
 "nbformat_minor": 2
}
